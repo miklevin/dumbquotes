{
 "cells": [
  {
   "cell_type": "code",
   "execution_count": null,
   "id": "f76e7e47-53c5-4d0e-8df6-8025859138e8",
   "metadata": {},
   "outputs": [],
   "source": [
    "# default_exp core"
   ]
  },
  {
   "cell_type": "code",
   "execution_count": null,
   "id": "5d0f4425-06fb-4edb-ab05-a1b3cbb60c4d",
   "metadata": {},
   "outputs": [],
   "source": [
    "%load_ext lab_black\n",
    "%reload_ext lab_black"
   ]
  },
  {
   "cell_type": "code",
   "execution_count": null,
   "id": "2d9e58d6-89c6-4ae9-9ce5-d6c7bad60a63",
   "metadata": {},
   "outputs": [],
   "source": [
    "# export\n",
    "\n",
    "import re\n",
    "\n",
    "\n",
    "def dumbquote(text):\n",
    "    \"\"\"Return text with smart quotes and apostrophes replaced\n",
    "    with dumb ones.\"\"\"\n",
    "\n",
    "    SINGLE = re.compile(\"[‘’]\")\n",
    "    DOUBLE = re.compile(\"[“”]\")\n",
    "    single_replaced = SINGLE.sub(\"'\", text)\n",
    "    double_replaced = DOUBLE.sub('\"', single_replaced)\n",
    "    return double_replaced"
   ]
  },
  {
   "cell_type": "code",
   "execution_count": null,
   "id": "6f16a6b2-d90c-44e7-acd3-210c473efb66",
   "metadata": {},
   "outputs": [],
   "source": []
  }
 ],
 "metadata": {
  "kernelspec": {
   "display_name": "Python 3 (ipykernel)",
   "language": "python",
   "name": "python3"
  }
 },
 "nbformat": 4,
 "nbformat_minor": 5
}
